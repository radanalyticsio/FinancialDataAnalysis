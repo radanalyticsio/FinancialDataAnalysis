{
 "cells": [
  {
   "cell_type": "markdown",
   "metadata": {},
   "source": [
    "### The data analysed is from this Kaggle data set:\n",
    "https://www.kaggle.com/ntnu-testimon/paysim1\n",
    "\n"
   ]
  },
  {
   "cell_type": "code",
   "execution_count": 1,
   "metadata": {
    "collapsed": true
   },
   "outputs": [],
   "source": [
    "import pandas as pd"
   ]
  },
  {
   "cell_type": "code",
   "execution_count": 2,
   "metadata": {
    "collapsed": true
   },
   "outputs": [],
   "source": [
    "#load data\n",
    "df = pd.read_csv('financial.csv')"
   ]
  },
  {
   "cell_type": "markdown",
   "metadata": {},
   "source": [
    "### Types of Transactions\n",
    "\n",
    "This has a look at which types of transactions are more likely to be frauduent.\n",
    "\n",
    "Results: cash out and transfer are the only types to show fraudulent activity. Therefore we can assume that transactions of this type are more likely to be fraudulent. If we take a sanity check this makes sense as it would be unusual to fraudulently add money to someones account."
   ]
  },
  {
   "cell_type": "code",
   "execution_count": 3,
   "metadata": {},
   "outputs": [
    {
     "name": "stdout",
     "output_type": "stream",
     "text": [
      "             step   amount  nameOrig  oldbalanceOrg  newbalanceOrig  nameDest  \\\n",
      "type                                                                            \n",
      "CASH_IN   1399284  1399284   1399284        1399284         1399284   1399284   \n",
      "CASH_OUT  2233384  2233384   2233384        2233384         2233384   2233384   \n",
      "DEBIT       41432    41432     41432          41432           41432     41432   \n",
      "PAYMENT   2151495  2151495   2151495        2151495         2151495   2151495   \n",
      "TRANSFER   528812   528812    528812         528812          528812    528812   \n",
      "\n",
      "          oldbalanceDest  newbalanceDest  isFraud  isFlaggedFraud  \n",
      "type                                                               \n",
      "CASH_IN          1399284         1399284  1399284         1399284  \n",
      "CASH_OUT         2233384         2233384  2233384         2233384  \n",
      "DEBIT              41432           41432    41432           41432  \n",
      "PAYMENT          2151495         2151495  2151495         2151495  \n",
      "TRANSFER          528812          528812   528812          528812  \n",
      "          step  amount  nameOrig  oldbalanceOrg  newbalanceOrig  nameDest  \\\n",
      "type                                                                        \n",
      "CASH_OUT  4116    4116      4116           4116            4116      4116   \n",
      "TRANSFER  4097    4097      4097           4097            4097      4097   \n",
      "\n",
      "          oldbalanceDest  newbalanceDest  isFraud  isFlaggedFraud  \n",
      "type                                                               \n",
      "CASH_OUT            4116            4116     4116            4116  \n",
      "TRANSFER            4097            4097     4097            4097  \n"
     ]
    }
   ],
   "source": [
    "#number of occurances of each type split by isFraud/not\n",
    "real_trans_groups = df[df['isFraud'] == 0].groupby('type')\n",
    "real_trans_counts = real_trans_groups.count()\n",
    "print(real_trans_counts)\n",
    "fake_trans_groups = df[df['isFraud'] == 1].groupby('type')\n",
    "fake_trans_counts = fake_trans_groups.count()\n",
    "print(fake_trans_counts)"
   ]
  },
  {
   "cell_type": "markdown",
   "metadata": {
    "collapsed": true
   },
   "source": [
    "### Transaction amounts\n",
    "\n",
    "We now look at the data to see if larger transactions are more likely to be fraudulent. First lets find out how many fraudulent transactions there are in the data set. "
   ]
  },
  {
   "cell_type": "code",
   "execution_count": 5,
   "metadata": {},
   "outputs": [
    {
     "name": "stdout",
     "output_type": "stream",
     "text": [
      "8213\n"
     ]
    }
   ],
   "source": [
    "#number of frauds\n",
    "total_fraud = df.isFraud[df['isFraud']== 1].count()\n",
    "print(total_fraud)"
   ]
  },
  {
   "cell_type": "markdown",
   "metadata": {},
   "source": [
    "The number of frauds in the data is 8213, next we will look at the number of fradulent transactions \n",
    "for different ammounts the higher you go the number of true transactions gets lower really quickly so this seems to be an indicator."
   ]
  },
  {
   "cell_type": "code",
   "execution_count": 6,
   "metadata": {},
   "outputs": [
    {
     "name": "stdout",
     "output_type": "stream",
     "text": [
      "6743\n",
      "82.1\n"
     ]
    }
   ],
   "source": [
    "frauds = df[df['isFraud']==1]\n",
    "high_amount =frauds.amount[frauds['amount']>80000].count()\n",
    "print(high_amount)\n",
    "#percentage of frauds \n",
    "percent = (high_amount/total_fraud)*100\n",
    "percent = round(percent,2)\n",
    "print(percent)"
   ]
  },
  {
   "cell_type": "markdown",
   "metadata": {},
   "source": [
    "There are 8161 fraudulent transactions for 500 > OR 99.37%, so what happens if we put a value like 30 (the most that can be used on a contactless card without using the pin)."
   ]
  },
  {
   "cell_type": "code",
   "execution_count": 7,
   "metadata": {},
   "outputs": [
    {
     "name": "stdout",
     "output_type": "stream",
     "text": [
      "16\n",
      "0.194813101181\n"
     ]
    }
   ],
   "source": [
    "low_amount = frauds.amount[frauds['amount'] <=30].count()\n",
    "print(low_amount)\n",
    "low_percent = low_amount/total_fraud*100\n",
    "print(low_percent)"
   ]
  },
  {
   "cell_type": "markdown",
   "metadata": {},
   "source": [
    "From these numbers it would look more probable that larger transactions are likely to be fraudulent. Lets check the amounts of non-fraudulent transactions."
   ]
  },
  {
   "cell_type": "code",
   "execution_count": 8,
   "metadata": {
    "scrolled": false
   },
   "outputs": [
    {
     "name": "stdout",
     "output_type": "stream",
     "text": [
      "6354407\n",
      "3102973\n",
      "48.8318264789\n"
     ]
    }
   ],
   "source": [
    "total_real_trans = df.isFraud[df['isFraud']==0].count()\n",
    "print(total_real_trans)\n",
    "real_trans = df[df['isFraud']==0]\n",
    "high_amount_real = real_trans.amount[real_trans['amount']>80000].count()\n",
    "print(high_amount_real)\n",
    "high_percentage = high_amount_real/total_real_trans*100\n",
    "print(high_percentage)"
   ]
  },
  {
   "cell_type": "markdown",
   "metadata": {
    "collapsed": true
   },
   "source": [
    "There are no timestamps in the data -set back but then could be randomly generated?"
   ]
  },
  {
   "cell_type": "code",
   "execution_count": 10,
   "metadata": {},
   "outputs": [
    {
     "name": "stdout",
     "output_type": "stream",
     "text": [
      "8213\n"
     ]
    }
   ],
   "source": [
    "#check new balance for origin is fraud always 0 newbalanceOrig\n",
    "cash_out= frauds.newbalanceOrig[frauds['isFraud']==1].count()\n",
    "print(cash_out)"
   ]
  },
  {
   "cell_type": "markdown",
   "metadata": {},
   "source": [
    "check the real transactions"
   ]
  },
  {
   "cell_type": "code",
   "execution_count": 12,
   "metadata": {},
   "outputs": [
    {
     "name": "stdout",
     "output_type": "stream",
     "text": [
      "6354407\n"
     ]
    }
   ],
   "source": [
    "cash_out_real = real_trans.newbalanceOrig[real_trans['isFraud']==0].count()\n",
    "print(cash_out_real)"
   ]
  },
  {
   "cell_type": "markdown",
   "metadata": {},
   "source": [
    "Look at these results all of the fraudulent transactions have a bank account with 0 left after the transaction this is not the case with real transactions."
   ]
  },
  {
   "cell_type": "code",
   "execution_count": null,
   "metadata": {
    "collapsed": true
   },
   "outputs": [],
   "source": []
  }
 ],
 "metadata": {
  "kernelspec": {
   "display_name": "Python 3",
   "language": "python",
   "name": "python3"
  },
  "language_info": {
   "codemirror_mode": {
    "name": "ipython",
    "version": 3
   },
   "file_extension": ".py",
   "mimetype": "text/x-python",
   "name": "python",
   "nbconvert_exporter": "python",
   "pygments_lexer": "ipython3",
   "version": "3.6.3"
  }
 },
 "nbformat": 4,
 "nbformat_minor": 2
}
